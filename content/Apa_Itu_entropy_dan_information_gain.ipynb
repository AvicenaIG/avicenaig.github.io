{
 "cells": [
  {
   "cell_type": "code",
   "execution_count": 1,
   "metadata": {},
   "outputs": [],
   "source": [
    "# keterangan: module yang dipakai pada artikel ini adalah\n",
    "import math\n",
    "import numpy as np\n",
    "import pandas as pd"
   ]
  },
  {
   "cell_type": "markdown",
   "metadata": {},
   "source": [
    "### Apa Itu Entropy ?"
   ]
  },
  {
   "cell_type": "markdown",
   "metadata": {},
   "source": [
    "Entropy singkatnya adalah besaran untuk mengukur ketidak pastian.Nilai entropy berkisar antara  0 sampai 1. Jika bernilai mendekati 0 berarti ketidak pastian sangat rendah  sedangkan saat nilainya mendekati 1  berarti ketidak pastian sangat tinggi.\n",
    "\n",
    "Contoh keadaan ketidak pastian tinggi adalah saat kalian disuruh memprediksi bola merah atau bola biru yang akan muncul dari kotak , padahal di dalam kotak ada 5 bola merah dan 5 bola biru. Maka ketidak pastiannya sangat tinggi / maksimal. Sedangkan jika di dalam kotak ada 10 bola merah dan 0 bola biru maka ketidak pastian nya sangat rendah dengan kata lain bola yang akan muncul PASTI bola merah.\n",
    "<br><br>\n",
    "Rumus entropy adalah sebagai berikut:"
   ]
  },
  {
   "cell_type": "markdown",
   "metadata": {},
   "source": [
    "<img border=\"0\" data-original-height=\"91\" data-original-width=\"391\" height=\"74\" src=\"https://miro.medium.com/max/391/1*nNY_7_aWRwp8E2DyGduEPg.png\" width=\"320\" />\n"
   ]
  },
  {
   "cell_type": "markdown",
   "metadata": {},
   "source": [
    "Dengan c adalah jumlah class , p adalah probality dari class tersebut\n",
    "<br>\n",
    "Berikut ini cara menghitung entropy dari satu baris data menggunakan python"
   ]
  },
  {
   "cell_type": "code",
   "execution_count": 2,
   "metadata": {},
   "outputs": [],
   "source": [
    "def entropy_of_y(y):\n",
    "    #y = list suatu data discret\n",
    "    value_to_average =[]\n",
    "\n",
    "    y_unique = np.unique(y)\n",
    "\n",
    "    value_to_sum = []\n",
    "    for y_unique_i in y_unique:\n",
    "        event = 0\n",
    "        outcome = 0\n",
    "        for y_i in y:\n",
    "\n",
    "\n",
    "            if y_i ==y_unique_i:\n",
    "                event +=1\n",
    "\n",
    "            outcome += 1\n",
    "\n",
    "\n",
    "        p = event/outcome #menghitung probability\n",
    "\n",
    "        value_to_sum.append(-p * math.log(p,2))\n",
    "\n",
    "       \n",
    "           \n",
    "       \n",
    "    return sum(value_to_sum) #"
   ]
  },
  {
   "cell_type": "markdown",
   "metadata": {},
   "source": [
    "Ayo kita coba lihat berapa entropy jika ada 5 bola merah dan ada 5 bola biru"
   ]
  },
  {
   "cell_type": "code",
   "execution_count": 3,
   "metadata": {},
   "outputs": [
    {
     "data": {
      "text/plain": [
       "1.0"
      ]
     },
     "execution_count": 3,
     "metadata": {},
     "output_type": "execute_result"
    }
   ],
   "source": [
    "entropy_of_y([\"MERAH\",\"MERAH\",\"MERAH\",\"MERAH\",\"MERAH\",\"BIRU\",\"BIRU\",\"BIRU\",\"BIRU\",\"BIRU\"])"
   ]
  },
  {
   "cell_type": "markdown",
   "metadata": {},
   "source": [
    "Ayo kita lihat kalau datanya diubah menjadi 10 bola merah dan 0 bola biru"
   ]
  },
  {
   "cell_type": "code",
   "execution_count": 4,
   "metadata": {},
   "outputs": [
    {
     "data": {
      "text/plain": [
       "0.0"
      ]
     },
     "execution_count": 4,
     "metadata": {},
     "output_type": "execute_result"
    }
   ],
   "source": [
    "entropy_of_y([\"MERAH\",\"MERAH\",\"MERAH\",\"MERAH\",\"MERAH\",\"MERAH\",\"MERAH\",\"MERAH\",\"MERAH\",\"MERAH\"])"
   ]
  },
  {
   "cell_type": "markdown",
   "metadata": {},
   "source": [
    "Entropy sama dengan 0 menandakan ketidak pastian sangat rendah, alias jika kita mau memprediksi bola apa yang terambil jawabannya PASTI bola MERAH\n",
    "<br><br>\n",
    "Nilai entropy juga akan 0 jika semua bola adalah biru "
   ]
  },
  {
   "cell_type": "code",
   "execution_count": 5,
   "metadata": {},
   "outputs": [
    {
     "data": {
      "text/plain": [
       "0.0"
      ]
     },
     "execution_count": 5,
     "metadata": {},
     "output_type": "execute_result"
    }
   ],
   "source": [
    "entropy_of_y([\"BIRU\",\"BIRU\",\"BIRU\",\"BIRU\",\"BIRU\",\"BIRU\",\"BIRU\",\"BIRU\",\"BIRU\",\"BIRU\"])"
   ]
  },
  {
   "cell_type": "markdown",
   "metadata": {},
   "source": [
    "Anggap saja simbol  ( - ) adalah bola biru dan simbol (+) adalah bola merah, maka beginilah perubahan entropynya\n",
    "<br><br>\n",
    "<img class=\"nj pc ds t u ha ak hk\" height=\"400\" role=\"presentation\" src=\"https://miro.medium.com/max/565/1*M15RZMSk8nGEyOnD8haF-A.png\" width=\"565\" />"
   ]
  },
  {
   "cell_type": "markdown",
   "metadata": {},
   "source": [
    "### Apa itu information gain ?"
   ]
  },
  {
   "cell_type": "markdown",
   "metadata": {},
   "source": [
    "Information gain adalah kemampuan suatu feature untuk mengurangi ketidak pastian dalam melakukan klasifikasi. Penggunaan Information Gain bisa dibilang mirip dengan correlation namun correlation , terutama Pearson correlation, dipakai untuk data yang bersifat continous. Information gain digunakan untuk data yang bersifat diskret.\n",
    "\n",
    "Lalau bagaimana menghitung nilai Information Gain ? Caranya adalah dengan menghitung entropy (ketidak pastian) dari target yang akan diprediksi tanpa diberi informasi feature apapaun. Lalu hasil dari penghitungan  dikurangi entropy dari target yang akan akan diprediksi TAPI dengan diberi informasi yaitu satu feature.\n",
    "\n",
    "\n",
    "untuk lebih jelasnya kita lihat ini\n",
    "\n",
    "<img border=\"0\" data-original-height=\"53\" data-original-width=\"800\" height=\"21\" src=\"https://miro.medium.com/max/1307/0*08CaHVjPCgs_fZyp\" width=\"320\" />\n",
    "\n",
    "\n"
   ]
  },
  {
   "cell_type": "markdown",
   "metadata": {},
   "source": [
    "IG adalah fungsi untuk menghitung Information Gain <br>\n",
    "E adalah fungsi untuk menghitung entropy <br>\n",
    "X adalah data feature atau independent variable<br>\n",
    "Y adalah data target atau dependent variable"
   ]
  },
  {
   "cell_type": "code",
   "execution_count": 28,
   "metadata": {},
   "outputs": [],
   "source": [
    "def calculate_IG(X, y):\n",
    "    # calculateIG(X,y) disini setara dengan IG(Y,X) pada rumus matematika\n",
    "    def entropy_of_y(y):\n",
    "        #entropy_of_y disini setara dengan E(Y) pada rumus matematika\n",
    "        value_to_average =[]\n",
    "\n",
    "        y_unique = np.unique(y)\n",
    "\n",
    "        value_to_sum = []\n",
    "        for y_unique_i in y_unique:\n",
    "            event = 0\n",
    "            outcome = 0\n",
    "            for y_i in y:\n",
    "\n",
    "\n",
    "                if y_i ==y_unique_i:\n",
    "                    event +=1\n",
    "\n",
    "                outcome += 1\n",
    "\n",
    "\n",
    "            p = event/outcome\n",
    "\n",
    "            value_to_sum.append(-p * math.log(p,2))\n",
    "\n",
    "\n",
    "\n",
    "\n",
    "        return sum(value_to_sum)\n",
    "\n",
    "\n",
    "    def entropy_of_yX(X, y):\n",
    "        #entropy_of_yX disini setara dengan E(Y|X) pada rumus matematika\n",
    "\n",
    "        value_to_average =[]\n",
    "\n",
    "        y_unique = np.unique(y)\n",
    "        X_unique = np.unique(X)\n",
    "        for X_unique_i in X_unique:\n",
    "            \n",
    "            value_to_sum = []\n",
    "            for y_unique_i in y_unique:\n",
    "                event = 0\n",
    "                outcome = 0\n",
    "                for X_i , y_i in zip(X.T, y.T):\n",
    "\n",
    "                    if X_i == X_unique_i and y_i == y_unique_i:\n",
    "                        event += 1\n",
    "\n",
    "                    if X_i == X_unique_i:\n",
    "                        outcome += 1\n",
    "\n",
    "\n",
    "                p = event/outcome\n",
    "                \n",
    "                if p > 0:\n",
    "                    value_to_sum.append(-p * math.log(p, 2))\n",
    "                else:\n",
    "                    value_to_sum.append(0)\n",
    "            \n",
    "            value_to_average.append(sum(value_to_sum))\n",
    "            \n",
    "\n",
    "\n",
    "        return np.mean(value_to_average)\n",
    "\n",
    "\n",
    "    def gain(X, y):\n",
    "        #gain disini setara IG(Y,X)\n",
    "        return entropy_of_y(y) - entropy_of_yX(X,y)\n",
    "\n",
    "    return gain(X,y)\n",
    "\n",
    "\n",
    "\n",
    "\n"
   ]
  },
  {
   "cell_type": "markdown",
   "metadata": {},
   "source": [
    "Ayo kita lihat berapa information gain, dari suatu data. Misal kalian punya teman bernama Ines, dia suka main tennis outdoor. Kalian ingin tau apakah ada hubungan antara cuaca dan kebiasan main tennis Ines.\n",
    "Selama sepuluh hari kalian catat apakah Ines main tennis atau tidak. Kalian juga mencatat cuacanya hujan, mendung, atau cerah. Ternyata datanya seperti ini"
   ]
  },
  {
   "cell_type": "code",
   "execution_count": 7,
   "metadata": {},
   "outputs": [
    {
     "data": {
      "text/html": [
       "<div>\n",
       "<style scoped>\n",
       "    .dataframe tbody tr th:only-of-type {\n",
       "        vertical-align: middle;\n",
       "    }\n",
       "\n",
       "    .dataframe tbody tr th {\n",
       "        vertical-align: top;\n",
       "    }\n",
       "\n",
       "    .dataframe thead th {\n",
       "        text-align: right;\n",
       "    }\n",
       "</style>\n",
       "<table border=\"1\" class=\"dataframe\">\n",
       "  <thead>\n",
       "    <tr style=\"text-align: right;\">\n",
       "      <th></th>\n",
       "      <th>cuaca</th>\n",
       "      <th>main_tenis</th>\n",
       "    </tr>\n",
       "  </thead>\n",
       "  <tbody>\n",
       "    <tr>\n",
       "      <td>0</td>\n",
       "      <td>HUJAN</td>\n",
       "      <td>TIDAK</td>\n",
       "    </tr>\n",
       "    <tr>\n",
       "      <td>1</td>\n",
       "      <td>MENDUNG</td>\n",
       "      <td>TIDAK</td>\n",
       "    </tr>\n",
       "    <tr>\n",
       "      <td>2</td>\n",
       "      <td>HUJAN</td>\n",
       "      <td>TIDAK</td>\n",
       "    </tr>\n",
       "    <tr>\n",
       "      <td>3</td>\n",
       "      <td>HUJAN</td>\n",
       "      <td>TIDAK</td>\n",
       "    </tr>\n",
       "    <tr>\n",
       "      <td>4</td>\n",
       "      <td>MENDUNG</td>\n",
       "      <td>YA</td>\n",
       "    </tr>\n",
       "    <tr>\n",
       "      <td>5</td>\n",
       "      <td>CERAH</td>\n",
       "      <td>YA</td>\n",
       "    </tr>\n",
       "    <tr>\n",
       "      <td>6</td>\n",
       "      <td>MENDUNG</td>\n",
       "      <td>YA</td>\n",
       "    </tr>\n",
       "    <tr>\n",
       "      <td>7</td>\n",
       "      <td>MENDUNG</td>\n",
       "      <td>TIDAK</td>\n",
       "    </tr>\n",
       "    <tr>\n",
       "      <td>8</td>\n",
       "      <td>CERAH</td>\n",
       "      <td>YA</td>\n",
       "    </tr>\n",
       "    <tr>\n",
       "      <td>9</td>\n",
       "      <td>CERAH</td>\n",
       "      <td>YA</td>\n",
       "    </tr>\n",
       "  </tbody>\n",
       "</table>\n",
       "</div>"
      ],
      "text/plain": [
       "     cuaca main_tenis\n",
       "0    HUJAN      TIDAK\n",
       "1  MENDUNG      TIDAK\n",
       "2    HUJAN      TIDAK\n",
       "3    HUJAN      TIDAK\n",
       "4  MENDUNG         YA\n",
       "5    CERAH         YA\n",
       "6  MENDUNG         YA\n",
       "7  MENDUNG      TIDAK\n",
       "8    CERAH         YA\n",
       "9    CERAH         YA"
      ]
     },
     "execution_count": 7,
     "metadata": {},
     "output_type": "execute_result"
    }
   ],
   "source": [
    "#X data cuaca\n",
    "#y main tenis?ya atau tidak\n",
    "X = np.array([\"HUJAN\",\"MENDUNG\",\"HUJAN\",\"HUJAN\", \"MENDUNG\",\"CERAH\",\"MENDUNG\",\"MENDUNG\",\"CERAH\",\"CERAH\"])\n",
    "y = np.array([\"TIDAK\",\"TIDAK\",\"TIDAK\",\"TIDAK\",\"YA\",\"YA\",\"YA\",\"TIDAK\",\"YA\",\"YA\"])\n",
    "dataset = (np.concatenate([np.array([X]).T,np.array([y]).T],axis=1))\n",
    "df = pd.DataFrame(dataset, columns=[\"cuaca\",\"main_tenis\"])\n",
    "\n",
    "df\n"
   ]
  },
  {
   "cell_type": "markdown",
   "metadata": {},
   "source": [
    "Nah ayo kita hitung berapa information gainnya\n"
   ]
  },
  {
   "cell_type": "code",
   "execution_count": 29,
   "metadata": {},
   "outputs": [
    {
     "data": {
      "text/plain": [
       "0.6666666666666667"
      ]
     },
     "execution_count": 29,
     "metadata": {},
     "output_type": "execute_result"
    }
   ],
   "source": [
    "calculate_IG(X,y)"
   ]
  },
  {
   "cell_type": "markdown",
   "metadata": {},
   "source": [
    "Nah ini menunjukkan data cuaca berhubungan cukup dekat dengan kebiasan Ines main tennis"
   ]
  },
  {
   "cell_type": "markdown",
   "metadata": {},
   "source": [
    "Sudah cukup jelas kan ? Atau mungkin mau tau caranya hitung manual ?"
   ]
  },
  {
   "cell_type": "markdown",
   "metadata": {},
   "source": [
    "Untuk menghitung E(Y) sepertinya sangat mudah , pertama kita hitung berapa jumlah class pada kolom Y, ternyata ada dua yaitu \"YA\" dan \"TIDAK\" . Lalu kita hitung probabilitas masing-masing , class \"YA\" memiliki probabilitas 0.5 dan class \"TIDAK\" memiliki probabilitas 0.5. Lalu tinggal dihitung dengan rumus entropy yang sudah ditulis diatas:"
   ]
  },
  {
   "cell_type": "code",
   "execution_count": 17,
   "metadata": {},
   "outputs": [
    {
     "data": {
      "text/plain": [
       "1.0"
      ]
     },
     "execution_count": 17,
     "metadata": {},
     "output_type": "execute_result"
    }
   ],
   "source": [
    "E_Y = -0.5 * math.log(0.5,2) + -0.5 *math.log(0.5,2)\n",
    "E_Y"
   ]
  },
  {
   "cell_type": "markdown",
   "metadata": {},
   "source": [
    "Nah sekarang kita hitung E(Y|X)\n",
    "\n",
    "pertama kita kelompokkan dulu berdasar nilai X"
   ]
  },
  {
   "cell_type": "code",
   "execution_count": 10,
   "metadata": {},
   "outputs": [
    {
     "data": {
      "text/html": [
       "<div>\n",
       "<style scoped>\n",
       "    .dataframe tbody tr th:only-of-type {\n",
       "        vertical-align: middle;\n",
       "    }\n",
       "\n",
       "    .dataframe tbody tr th {\n",
       "        vertical-align: top;\n",
       "    }\n",
       "\n",
       "    .dataframe thead th {\n",
       "        text-align: right;\n",
       "    }\n",
       "</style>\n",
       "<table border=\"1\" class=\"dataframe\">\n",
       "  <thead>\n",
       "    <tr style=\"text-align: right;\">\n",
       "      <th></th>\n",
       "      <th>cuaca</th>\n",
       "      <th>main_tenis</th>\n",
       "    </tr>\n",
       "  </thead>\n",
       "  <tbody>\n",
       "    <tr>\n",
       "      <td>5</td>\n",
       "      <td>CERAH</td>\n",
       "      <td>YA</td>\n",
       "    </tr>\n",
       "    <tr>\n",
       "      <td>8</td>\n",
       "      <td>CERAH</td>\n",
       "      <td>YA</td>\n",
       "    </tr>\n",
       "    <tr>\n",
       "      <td>9</td>\n",
       "      <td>CERAH</td>\n",
       "      <td>YA</td>\n",
       "    </tr>\n",
       "    <tr>\n",
       "      <td>0</td>\n",
       "      <td>HUJAN</td>\n",
       "      <td>TIDAK</td>\n",
       "    </tr>\n",
       "    <tr>\n",
       "      <td>2</td>\n",
       "      <td>HUJAN</td>\n",
       "      <td>TIDAK</td>\n",
       "    </tr>\n",
       "    <tr>\n",
       "      <td>3</td>\n",
       "      <td>HUJAN</td>\n",
       "      <td>TIDAK</td>\n",
       "    </tr>\n",
       "    <tr>\n",
       "      <td>1</td>\n",
       "      <td>MENDUNG</td>\n",
       "      <td>TIDAK</td>\n",
       "    </tr>\n",
       "    <tr>\n",
       "      <td>4</td>\n",
       "      <td>MENDUNG</td>\n",
       "      <td>YA</td>\n",
       "    </tr>\n",
       "    <tr>\n",
       "      <td>6</td>\n",
       "      <td>MENDUNG</td>\n",
       "      <td>YA</td>\n",
       "    </tr>\n",
       "    <tr>\n",
       "      <td>7</td>\n",
       "      <td>MENDUNG</td>\n",
       "      <td>TIDAK</td>\n",
       "    </tr>\n",
       "  </tbody>\n",
       "</table>\n",
       "</div>"
      ],
      "text/plain": [
       "     cuaca main_tenis\n",
       "5    CERAH         YA\n",
       "8    CERAH         YA\n",
       "9    CERAH         YA\n",
       "0    HUJAN      TIDAK\n",
       "2    HUJAN      TIDAK\n",
       "3    HUJAN      TIDAK\n",
       "1  MENDUNG      TIDAK\n",
       "4  MENDUNG         YA\n",
       "6  MENDUNG         YA\n",
       "7  MENDUNG      TIDAK"
      ]
     },
     "execution_count": 10,
     "metadata": {},
     "output_type": "execute_result"
    }
   ],
   "source": [
    "df = df.sort_values(by =[\"cuaca\"])\n",
    "df"
   ]
  },
  {
   "cell_type": "markdown",
   "metadata": {},
   "source": [
    "Nah cara hitungnya sama sih seperti E(Y) hanya saja dilakukan secara terpisah berdasar nilai di X, karena nilai di X yaitu cuaca ada tiga jenis yaitu CERAH, HUJAN, dan MENDUNG , maka ada tiga kali penghitungan lalu hasilnya di rata-rata."
   ]
  },
  {
   "cell_type": "code",
   "execution_count": 11,
   "metadata": {},
   "outputs": [
    {
     "data": {
      "text/plain": [
       "0.0"
      ]
     },
     "execution_count": 11,
     "metadata": {},
     "output_type": "execute_result"
    }
   ],
   "source": [
    "#penghitungan saat cuaca CERAH\n",
    "# sebenarnya rumusnya -1 * math.log(1,2) + -0 * math.log(0,2), namun akan menghasilkan error karena math.log(0,2) adalah -infinity\n",
    "#tapi rumus bisa diganti menjadi -1 * math.log(1,2) + -0  karena  0 dikali -infinity sama dengan 0\n",
    "E_XY_1 = -1 * math.log(1,2) + -0\n",
    "E_XY_1"
   ]
  },
  {
   "cell_type": "code",
   "execution_count": 12,
   "metadata": {},
   "outputs": [
    {
     "data": {
      "text/plain": [
       "0.0"
      ]
     },
     "execution_count": 12,
     "metadata": {},
     "output_type": "execute_result"
    }
   ],
   "source": [
    "#penghitungan saat cuaca HUJAN\n",
    "#alasan rumus diganti sama dengan yang diatas\n",
    "E_XY_2 = 0 + -1 * math.log(1,2)\n",
    "E_XY_2"
   ]
  },
  {
   "cell_type": "code",
   "execution_count": 25,
   "metadata": {},
   "outputs": [
    {
     "data": {
      "text/plain": [
       "1.0"
      ]
     },
     "execution_count": 25,
     "metadata": {},
     "output_type": "execute_result"
    }
   ],
   "source": [
    "\n",
    "#penghitungan saat cuaca MENDUNG\n",
    "E_XY_3 = -0.5 * math.log(0.5,2) + -0.5 * math.log(0.5,2)\n",
    "E_XY_3 "
   ]
  },
  {
   "cell_type": "code",
   "execution_count": 26,
   "metadata": {},
   "outputs": [
    {
     "data": {
      "text/plain": [
       "0.3333333333333333"
      ]
     },
     "execution_count": 26,
     "metadata": {},
     "output_type": "execute_result"
    }
   ],
   "source": [
    "E_XY = (E_XY_1 + E_XY_2 + E_XY_3)/3\n",
    "E_XY"
   ]
  },
  {
   "cell_type": "code",
   "execution_count": 27,
   "metadata": {},
   "outputs": [
    {
     "data": {
      "text/plain": [
       "0.6666666666666667"
      ]
     },
     "execution_count": 27,
     "metadata": {},
     "output_type": "execute_result"
    }
   ],
   "source": [
    "IG = E_Y - E_XY\n",
    "IG"
   ]
  },
  {
   "cell_type": "markdown",
   "metadata": {},
   "source": [
    "Bagaimana sudah mengerti kan ? Semoga bermanfaat\n",
    "## AVICENA"
   ]
  },
  {
   "cell_type": "code",
   "execution_count": 31,
   "metadata": {},
   "outputs": [
    {
     "name": "stdout",
     "output_type": "stream",
     "text": [
      "[NbConvertApp] Converting notebook Untitled.ipynb to html\n",
      "[NbConvertApp] Writing 308307 bytes to Untitled.html\n"
     ]
    }
   ],
   "source": [
    "!jupyter nbconvert --to html Untitled.ipynb"
   ]
  },
  {
   "cell_type": "code",
   "execution_count": null,
   "metadata": {},
   "outputs": [],
   "source": []
  }
 ],
 "metadata": {
  "kernelspec": {
   "display_name": "saham",
   "language": "python",
   "name": "saham"
  },
  "language_info": {
   "codemirror_mode": {
    "name": "ipython",
    "version": 3
   },
   "file_extension": ".py",
   "mimetype": "text/x-python",
   "name": "python",
   "nbconvert_exporter": "python",
   "pygments_lexer": "ipython3",
   "version": "3.6.8"
  }
 },
 "nbformat": 4,
 "nbformat_minor": 2
}
